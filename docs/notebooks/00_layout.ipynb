{
 "cells": [
  {
   "cell_type": "markdown",
   "id": "0",
   "metadata": {},
   "source": [
    "# Layout\n",
    "\n",
    "All UBC ubcpdk.components cells are conveniently combined into the ubcpdk.components module."
   ]
  },
  {
   "cell_type": "code",
   "execution_count": null,
   "id": "1",
   "metadata": {},
   "outputs": [],
   "source": [
    "import gdsfactory as gf\n",
    "\n",
    "import ubcpdk\n",
    "import ubcpdk.components as uc"
   ]
  },
  {
   "cell_type": "markdown",
   "id": "2",
   "metadata": {},
   "source": [
    "## Fixed Component cells\n",
    "\n",
    "Most `ubcpdk` components are imported from GDS files as fixed cells."
   ]
  },
  {
   "cell_type": "code",
   "execution_count": null,
   "id": "3",
   "metadata": {},
   "outputs": [],
   "source": [
    "c = uc.ebeam_crossing4()\n",
    "c.plot()"
   ]
  },
  {
   "cell_type": "code",
   "execution_count": null,
   "id": "4",
   "metadata": {},
   "outputs": [],
   "source": [
    "c = uc.ebeam_swg_edgecoupler()\n",
    "c.plot()"
   ]
  },
  {
   "cell_type": "code",
   "execution_count": null,
   "id": "5",
   "metadata": {},
   "outputs": [],
   "source": [
    "c = uc.ebeam_bdc_te1550()\n",
    "c.plot()"
   ]
  },
  {
   "cell_type": "code",
   "execution_count": null,
   "id": "6",
   "metadata": {},
   "outputs": [],
   "source": [
    "c = uc.ebeam_adiabatic_te1550()\n",
    "c.plot()"
   ]
  },
  {
   "cell_type": "code",
   "execution_count": null,
   "id": "7",
   "metadata": {},
   "outputs": [],
   "source": [
    "c = uc.ebeam_y_adiabatic()\n",
    "c.plot()"
   ]
  },
  {
   "cell_type": "code",
   "execution_count": null,
   "id": "8",
   "metadata": {},
   "outputs": [],
   "source": [
    "c = uc.ebeam_y_1550()\n",
    "c.plot()"
   ]
  },
  {
   "cell_type": "markdown",
   "id": "9",
   "metadata": {},
   "source": [
    "## Parametric Component PCells\n",
    "\n",
    "You can also define cells adapted from gdsfactory generic pdk."
   ]
  },
  {
   "cell_type": "code",
   "execution_count": null,
   "id": "10",
   "metadata": {},
   "outputs": [],
   "source": [
    "c = uc.straight(length=2)\n",
    "c.plot()"
   ]
  },
  {
   "cell_type": "code",
   "execution_count": null,
   "id": "11",
   "metadata": {},
   "outputs": [],
   "source": [
    "c = uc.bend(radius=5)\n",
    "c.plot()"
   ]
  },
  {
   "cell_type": "code",
   "execution_count": null,
   "id": "12",
   "metadata": {},
   "outputs": [],
   "source": [
    "c = uc.ring_with_crossing()\n",
    "c.plot()"
   ]
  },
  {
   "cell_type": "code",
   "execution_count": null,
   "id": "13",
   "metadata": {},
   "outputs": [],
   "source": [
    "c = uc.dbr()\n",
    "c.plot()"
   ]
  },
  {
   "cell_type": "code",
   "execution_count": null,
   "id": "14",
   "metadata": {},
   "outputs": [],
   "source": [
    "c = uc.spiral()\n",
    "c.plot()"
   ]
  },
  {
   "cell_type": "code",
   "execution_count": null,
   "id": "15",
   "metadata": {},
   "outputs": [],
   "source": [
    "c = uc.mzi_heater()\n",
    "c.plot()"
   ]
  },
  {
   "cell_type": "code",
   "execution_count": null,
   "id": "16",
   "metadata": {},
   "outputs": [],
   "source": [
    "c = uc.ring_single_heater()\n",
    "c.plot()"
   ]
  },
  {
   "cell_type": "markdown",
   "id": "17",
   "metadata": {},
   "source": [
    "## Components with grating couplers\n",
    "\n",
    "To test your devices you can add grating couplers. Both for single fibers and for fiber arrays."
   ]
  },
  {
   "cell_type": "code",
   "execution_count": null,
   "id": "18",
   "metadata": {},
   "outputs": [],
   "source": [
    "splitter = uc.ebeam_y_1550()\n",
    "mzi = gf.components.mzi(splitter=splitter)\n",
    "mzi.plot()"
   ]
  },
  {
   "cell_type": "code",
   "execution_count": null,
   "id": "19",
   "metadata": {},
   "outputs": [],
   "source": [
    "component_fiber_array = uc.add_fiber_array(component=mzi)\n",
    "component_fiber_array.plot()"
   ]
  },
  {
   "cell_type": "code",
   "execution_count": null,
   "id": "20",
   "metadata": {},
   "outputs": [],
   "source": [
    "c = uc.ring_single_heater()\n",
    "c = uc.add_fiber_array_pads_rf(c)\n",
    "c.plot()"
   ]
  },
  {
   "cell_type": "code",
   "execution_count": null,
   "id": "21",
   "metadata": {},
   "outputs": [],
   "source": [
    "c = uc.mzi_heater()\n",
    "c = uc.add_fiber_array_pads_rf(c, optical_routing_type=2)\n",
    "c.plot()"
   ]
  },
  {
   "cell_type": "markdown",
   "id": "22",
   "metadata": {},
   "source": [
    "## 3D rendering"
   ]
  },
  {
   "cell_type": "code",
   "execution_count": null,
   "id": "23",
   "metadata": {},
   "outputs": [],
   "source": [
    "scene = c.to_3d()\n",
    "scene.show()"
   ]
  },
  {
   "cell_type": "markdown",
   "id": "24",
   "metadata": {},
   "source": [
    "## Die assembly"
   ]
  },
  {
   "cell_type": "code",
   "execution_count": null,
   "id": "25",
   "metadata": {},
   "outputs": [],
   "source": [
    "from functools import partial\n",
    "from pathlib import Path\n",
    "\n",
    "import gdsfactory as gf\n",
    "\n",
    "import ubcpdk\n",
    "import ubcpdk.components as uc\n",
    "from ubcpdk import tech\n",
    "from ubcpdk.tech import LAYER\n",
    "\n",
    "\n",
    "size = (440, 470)\n",
    "add_gc = uc.add_fiber_array\n",
    "\n",
    "\n",
    "@gf.cell\n",
    "def EBeam_JoaquinMatres_1() -> gf.Component:\n",
    "    \"\"\"Add DBR cavities.\"\"\"\n",
    "    e = [add_gc(uc.straight())]\n",
    "    e += [add_gc(uc.mzi(delta_length=dl)) for dl in [9.32, 93.19]]\n",
    "    e += [\n",
    "        add_gc(uc.ring_single(radius=12, gap=gap, length_x=coupling_length))\n",
    "        for gap in [0.2]\n",
    "        for coupling_length in [2.5, 4.5, 6.5]\n",
    "    ]\n",
    "\n",
    "    e += [\n",
    "        uc.dbr_cavity_te(w0=w0, dw=dw)\n",
    "        for w0 in [0.5]\n",
    "        for dw in [50e-3, 100e-3, 150e-3, 200e-3]\n",
    "    ]\n",
    "    e += [add_gc(uc.ring_with_crossing())]\n",
    "    e += [add_gc(uc.ring_with_crossing(port_name=\"o2\", with_component=False))]\n",
    "\n",
    "    c = gf.Component()\n",
    "    _ = c << gf.pack(e, max_size=size, spacing=2)[0]\n",
    "    _ = c << gf.components.rectangle(size=size, layer=LAYER.FLOORPLAN)\n",
    "    return c\n",
    "\n",
    "\n",
    "gf.clear_cache()\n",
    "c = EBeam_JoaquinMatres_1()\n",
    "c.show()  # show in klayout\n",
    "c.plot()  # plot in notebook"
   ]
  },
  {
   "cell_type": "code",
   "execution_count": null,
   "id": "26",
   "metadata": {},
   "outputs": [],
   "source": [
    "@gf.cell\n",
    "def EBeam_JoaquinMatres_2() -> gf.Component:\n",
    "    \"\"\"spirals for extracting straight waveguide loss\"\"\"\n",
    "    N = 12\n",
    "    radius = 10\n",
    "\n",
    "    e = [\n",
    "        uc.add_fiber_array(\n",
    "            component=uc.spiral(\n",
    "                N=N,\n",
    "                radius=radius,\n",
    "                y_straight_inner_top=0,\n",
    "                x_inner_length_cutback=0,\n",
    "            )\n",
    "        )\n",
    "    ]\n",
    "\n",
    "    e.append(\n",
    "        uc.add_fiber_array(\n",
    "            component=uc.spiral(\n",
    "                N=N,\n",
    "                radius=radius,\n",
    "                y_straight_inner_top=0,\n",
    "                x_inner_length_cutback=185,\n",
    "            )\n",
    "        )\n",
    "    )\n",
    "\n",
    "    c = gf.Component()\n",
    "    _ = c << gf.pack(e, max_size=size, spacing=2)[0]\n",
    "    _ = c << gf.components.rectangle(size=size, layer=LAYER.FLOORPLAN)\n",
    "    return c\n",
    "\n",
    "\n",
    "c = EBeam_JoaquinMatres_2()\n",
    "c.show()  # show in klayout\n",
    "c.plot()  # plot in notebook"
   ]
  },
  {
   "cell_type": "code",
   "execution_count": null,
   "id": "27",
   "metadata": {},
   "outputs": [],
   "source": [
    "@gf.cell\n",
    "def EBeam_JoaquinMatres_3() -> gf.Component:\n",
    "    \"\"\"contains mirror cavities and structures inside a resonator\"\"\"\n",
    "    e = []\n",
    "    e += [add_gc(uc.ebeam_crossing4())]\n",
    "    e += [add_gc(uc.ebeam_adiabatic_te1550(), optical_routing_type=1)]\n",
    "    e += [add_gc(uc.ebeam_bdc_te1550())]\n",
    "    e += [add_gc(uc.ebeam_y_1550(), optical_routing_type=1)]\n",
    "    e += [add_gc(uc.ebeam_y_adiabatic_tapers(), optical_routing_type=1)]\n",
    "    e += [add_gc(uc.straight(), component_name=f\"straight_{i}\") for i in range(2)]\n",
    "    c = gf.Component()\n",
    "    _ = c << gf.pack(e, max_size=size, spacing=2)[0]\n",
    "    _ = c << gf.components.rectangle(size=size, layer=LAYER.FLOORPLAN)\n",
    "    return c\n",
    "\n",
    "\n",
    "gf.clear_cache()\n",
    "c = EBeam_JoaquinMatres_3()\n",
    "c.show()  # show in klayout\n",
    "c.plot()  # plot in notebook"
   ]
  },
  {
   "cell_type": "code",
   "execution_count": null,
   "id": "28",
   "metadata": {},
   "outputs": [],
   "source": [
    "@gf.cell\n",
    "def EBeam_JoaquinMatres_4() -> gf.Component:\n",
    "    \"\"\"MZI interferometers.\"\"\"\n",
    "    mzi = partial(gf.components.mzi, splitter=uc.ebeam_y_1550)\n",
    "    mzis = [mzi(delta_length=delta_length) for delta_length in [10, 40, 100]]\n",
    "    mzis_gc = [uc.add_fiber_array(mzi) for mzi in mzis]\n",
    "\n",
    "    mzis = [uc.mzi_heater(delta_length=delta_length) for delta_length in [40]]\n",
    "    mzis_heater_gc = [\n",
    "        uc.add_fiber_array_pads_rf(mzi, orientation=90, optical_routing_type=2)\n",
    "        for mzi in mzis\n",
    "    ]\n",
    "\n",
    "    e = mzis_gc + mzis_heater_gc\n",
    "    c = gf.Component()\n",
    "    _ = c << gf.pack(e, max_size=size, spacing=2)[0]\n",
    "    _ = c << gf.components.rectangle(size=size, layer=LAYER.FLOORPLAN)\n",
    "    return c\n",
    "\n",
    "\n",
    "gf.clear_cache()\n",
    "c = EBeam_JoaquinMatres_4()\n",
    "c.show()  # show in klayout\n",
    "c.plot()  # plot in notebook"
   ]
  },
  {
   "cell_type": "code",
   "execution_count": null,
   "id": "29",
   "metadata": {},
   "outputs": [],
   "source": [
    "@gf.cell\n",
    "def EBeam_JoaquinMatres_5() -> gf.Component:\n",
    "    \"\"\"Ring resonators.\"\"\"\n",
    "    rings = [uc.ring_single_heater(length_x=length_x) for length_x in [4, 6]]\n",
    "    rings = [gf.functions.rotate180(ring) for ring in rings]\n",
    "    rings_gc = [uc.add_fiber_array_pads_rf(ring) for ring in rings]\n",
    "\n",
    "    c = gf.Component()\n",
    "    _ = c << gf.pack(rings_gc, max_size=size, spacing=2)[0]\n",
    "    _ = c << gf.components.rectangle(size=size, layer=LAYER.FLOORPLAN)\n",
    "    return c\n",
    "\n",
    "\n",
    "gf.clear_cache()\n",
    "c = EBeam_JoaquinMatres_5()\n",
    "c.show()  # show in klayout\n",
    "c.plot()  # plot in notebook"
   ]
  },
  {
   "cell_type": "code",
   "execution_count": null,
   "id": "30",
   "metadata": {},
   "outputs": [],
   "source": []
  }
 ],
 "metadata": {
  "jupytext": {
   "custom_cell_magics": "kql"
  },
  "kernelspec": {
   "display_name": "Python 3 (ipykernel)",
   "language": "python",
   "name": "python3"
  },
  "language_info": {
   "codemirror_mode": {
    "name": "ipython",
    "version": 3
   },
   "file_extension": ".py",
   "mimetype": "text/x-python",
   "name": "python",
   "nbconvert_exporter": "python",
   "pygments_lexer": "ipython3",
   "version": "3.11.5"
  }
 },
 "nbformat": 4,
 "nbformat_minor": 5
}
