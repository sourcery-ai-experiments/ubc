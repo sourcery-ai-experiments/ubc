{
 "cells": [
  {
   "cell_type": "markdown",
   "id": "0",
   "metadata": {},
   "source": [
    "# Data analysis ring\n",
    "\n",
    "We analyze the following ring samples from the edx course\n",
    "\n",
    "Double-bus ring resonators\n",
    "symmetrically coupled\n",
    "\n",
    "TE:\n",
    "R = [3]\n",
    "g = [50, 100, 150]\n",
    "\n",
    "R = [10]\n",
    "g = [50, 100, 150, 200]\n",
    "\n",
    "TM:\n",
    "R = [30]\n",
    "g = [150, 200, 250]"
   ]
  },
  {
   "cell_type": "code",
   "execution_count": null,
   "id": "1",
   "metadata": {
    "attributes": {
     "classes": [],
     "id": "",
     "n": "2"
    }
   },
   "outputs": [],
   "source": [
    "import matplotlib.pyplot as plt\n",
    "\n",
    "import ubcpdk"
   ]
  },
  {
   "cell_type": "code",
   "execution_count": null,
   "id": "2",
   "metadata": {
    "attributes": {
     "classes": [],
     "id": "",
     "n": "3"
    }
   },
   "outputs": [],
   "source": [
    "w, p = ubcpdk.data.read_mat(ubcpdk.PATH.ring_te_r3_g100, port=0)\n",
    "plt.plot(w * 1e9, p)"
   ]
  }
 ],
 "metadata": {
  "kernelspec": {
   "display_name": "Python 3 (ipykernel)",
   "language": "python",
   "name": "python3"
  }
 },
 "nbformat": 4,
 "nbformat_minor": 5
}
